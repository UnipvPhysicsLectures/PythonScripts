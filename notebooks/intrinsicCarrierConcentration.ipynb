{
 "cells": [
  {
   "cell_type": "markdown",
   "metadata": {},
   "source": [
    "## Libraries"
   ]
  },
  {
   "cell_type": "code",
   "execution_count": 1,
   "metadata": {},
   "outputs": [],
   "source": [
    "# libraries\n",
    "import numpy as np\n",
    "import matplotlib.pylab as plt\n",
    "import scipy.constants as cs"
   ]
  },
  {
   "cell_type": "markdown",
   "metadata": {},
   "source": [
    "## Semiconductor data"
   ]
  },
  {
   "cell_type": "code",
   "execution_count": 2,
   "metadata": {},
   "outputs": [],
   "source": [
    "# data for several semiconductors\n",
    "data = {'Si':{'Eg':1.14,'m_c':0.36,'m_v':0.81},\n",
    "        'Ge':{'Eg':0.67,'m_c':0.55,'m_v':0.37},\n",
    "        'GaN':{'Eg':3.34,'m_c':0.2,'m_v':1.4},\n",
    "        'GaP':{'Eg':2.26,'m_c':0.79,'m_v':0.83},\n",
    "        'GaAs':{'Eg':1.42,'m_c':0.067,'m_v':0.45},\n",
    "        'CdS':{'Eg':2.42,'m_c':0.18,'m_v':0.53},\n",
    "        'CdSe':{'Eg':1.74,'m_c':0.13,'m_v':0.3},\n",
    "        'CdTe':{'Eg':1.49,'m_c':0.11,'m_v':0.35},\n",
    "        'ZnSe':{'Eg':2.7,'m_c':0.17,'m_v':1.44},\n",
    "        'ZnS':{'Eg':3.54,'m_c':0.28,'m_v':1.40},\n",
    "        'ZnO':{'Eg':3.37,'m_c':0.29,'m_v':1.21},}\n",
    "T = 300 # temperature in kelvin\n",
    "v_T = np.linspace(300,800,1000)"
   ]
  },
  {
   "cell_type": "code",
   "execution_count": 3,
   "metadata": {},
   "outputs": [],
   "source": [
    "def n_i(Element,T=300):\n",
    "    \"\"\"\n",
    "    Calculates the intrinsic carrier concentration in a semiconductor.\n",
    "\n",
    "    This function calculates the intrinsic carrier concentration (n_i) in a \n",
    "    semiconductor material based on its element symbol and temperature.\n",
    "\n",
    "    Args:\n",
    "        Element (str): Symbol of the semiconductor element.\n",
    "        T (float, optional): Temperature of the semiconductor in Kelvin. \n",
    "            Defaults to 300 K.\n",
    "\n",
    "    Returns:\n",
    "        float: Intrinsic carrier concentration (n_i) in cm^-3.\n",
    "\n",
    "    Raises:\n",
    "        KeyError: If the provided element symbol is not found in the \n",
    "                 data dictionary.\n",
    "\n",
    "    Uses constants from the 'scipy.constants' (cs) module:\n",
    "        * k_B: Boltzmann constant\n",
    "        * e: Elementary charge\n",
    "        * m_e: Electron mass\n",
    "        * hbar: Reduced Planck constant\n",
    "    \"\"\"\n",
    "\n",
    "    # physical constants\n",
    "    k_B = cs.Boltzmann\n",
    "    e = cs.elementary_charge\n",
    "    m_e = cs.electron_mass\n",
    "    hbar = cs.hbar\n",
    "    \n",
    "    # semiconductor params\n",
    "    E_g = data[Element]['Eg']*e\n",
    "    m_c = m_e * data[Element]['m_c']\n",
    "    m_v = m_e * data[Element]['m_v']\n",
    "\n",
    "    N_c = 0.25*((2 * m_c * k_B * T)/(np.pi*hbar**2))**(3.0/2.0)\n",
    "    P_v = 0.25*((2 * m_v * k_B * T)/(np.pi*hbar**2))**(3.0/2.0)\n",
    "\n",
    "    n_i = np.sqrt(N_c*P_v)*np.exp(-E_g/(2.0*k_B*T))/1e6\n",
    "\n",
    "    return n_i"
   ]
  },
  {
   "cell_type": "code",
   "execution_count": 4,
   "metadata": {},
   "outputs": [
    {
     "data": {
      "text/plain": [
       "'2.15E+06'"
      ]
     },
     "execution_count": 4,
     "metadata": {},
     "output_type": "execute_result"
    }
   ],
   "source": [
    "\"{:.2E}\".format(n_i('GaAs'))"
   ]
  },
  {
   "cell_type": "code",
   "execution_count": null,
   "metadata": {},
   "outputs": [],
   "source": []
  }
 ],
 "metadata": {
  "kernelspec": {
   "display_name": "work",
   "language": "python",
   "name": "python3"
  },
  "language_info": {
   "codemirror_mode": {
    "name": "ipython",
    "version": 3
   },
   "file_extension": ".py",
   "mimetype": "text/x-python",
   "name": "python",
   "nbconvert_exporter": "python",
   "pygments_lexer": "ipython3",
   "version": "3.12.2"
  }
 },
 "nbformat": 4,
 "nbformat_minor": 2
}
